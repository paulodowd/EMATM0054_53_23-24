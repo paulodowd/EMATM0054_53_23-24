{
  "nbformat": 4,
  "nbformat_minor": 0,
  "metadata": {
    "colab": {
      "provenance": [],
      "authorship_tag": "ABX9TyOqWgTInjm0eTiXI+cHAcCD",
      "include_colab_link": true
    },
    "kernelspec": {
      "name": "python3",
      "display_name": "Python 3"
    },
    "language_info": {
      "name": "python"
    }
  },
  "cells": [
    {
      "cell_type": "markdown",
      "metadata": {
        "id": "view-in-github",
        "colab_type": "text"
      },
      "source": [
        "<a href=\"https://colab.research.google.com/github/paulodowd/EMATM0054_53_23-24/blob/main/Project_Idea_1_Box_Pushing.ipynb\" target=\"_parent\"><img src=\"https://colab.research.google.com/assets/colab-badge.svg\" alt=\"Open In Colab\"/></a>"
      ]
    },
    {
      "cell_type": "markdown",
      "source": [
        "# Box Pushing"
      ],
      "metadata": {
        "id": "Q6b6g-asANzL"
      }
    },
    {
      "cell_type": "markdown",
      "source": [
        "# Observation\n",
        "\n",
        "If the 3Pi+ is tasked with pushing a box, the box will quickly slip to the left or right of the robot, and the robot loses control of the box.  This seems to be because using the bump sensors to detect the box position is effective only in very narrow range in front of the robot.\n",
        "\n",
        "<p align=\"center\">\n",
        "<img width=\"300\" src=\"https://github.com/paulodowd/EMATM0054_53_23-24/blob/main/Images/bad_boxpush.png?raw=true\">\n",
        "</p>\n",
        "\n",
        "\n",
        "\n",
        "# Hypothesis\n",
        "\n",
        "If we use two 3Pi+ robots to push a wide box, the box could be understood to pivot between the robots - and the contact point in front of each robot should be more stable. This is because the box is unlikely to slide away.  Furthemore, we hypothesise that the longer the box, the better control each robot should have, because the box will remain within the narrow useful detection range of the bumpers.  However, as the box increases in length, we would also expect each robot to require a greater range of speed overall to fix any error in box control, where the box could be understood to be something like a lever.\n",
        "\n",
        "<p align=\"center\">\n",
        "<img width=\"400\" src=\"https://github.com/paulodowd/EMATM0054_53_23-24/blob/main/Images/multibot_boxpush.png?raw=true\">\n",
        "</p>\n",
        "\n",
        "# Measurements & Results\n",
        "\n",
        "In these experiments, we anticipate using:\n",
        "- kinematics & odometry, to capture how the robots are travelling (e.g. x and y translation) and the quality of their motion (e.g., oscillation in theta).\n",
        "- wheel speed, PID feedback: we could use wheel speed and speed control to understand the quality of the robot motion, or overall pushing behaviour.\n",
        "- bumper activation: we can capture the bumper activation (continuous values) to understand the regularity of the contact between the robot and the box.\n",
        "- box position: we can capture the final stopping point of the box, measuring the displacement and change of orientation.  We can use this to quantify box pushing performance.\n",
        "\n",
        "# Method\n",
        "\n",
        "This system could be evaluated in many scenarios.  We will specifically investigate the width of the box on box pushing performance.  We will evaluate this by quantifying the travel of the box along a straight line of known distance.  We will need to first of all qualify the performance of a baseline  system (e.g., a fixed scheme of robot sensor processing and motion control), which we have designed to be as good as possible, tested against various box widths.  We will then use our findings to explore different configurations of the system, to evidence how a control system would need to be changed with respect to box width, if at all.  We expect to use a PID controller to relate the bump sensor activation to increase foward/backward velocity of the robot.  "
      ],
      "metadata": {
        "id": "XP8TZM2HzhSE"
      }
    }
  ]
}